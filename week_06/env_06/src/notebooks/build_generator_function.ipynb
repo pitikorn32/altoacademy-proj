{
 "cells": [
  {
   "attachments": {},
   "cell_type": "markdown",
   "metadata": {},
   "source": [
    "# [1] Generator function"
   ]
  },
  {
   "attachments": {},
   "cell_type": "markdown",
   "metadata": {},
   "source": [
    "## [1.1] This one is regular function (NOT an iterator !!)"
   ]
  },
  {
   "cell_type": "code",
   "execution_count": 3,
   "metadata": {},
   "outputs": [],
   "source": [
    "# function solution\n",
    "def evenIntegers(n):\n",
    "    result = []\n",
    "    for i in range(n):\n",
    "        if i % 2 == 0:\n",
    "            result.append(i)\n",
    "    return result                   #return list of even function"
   ]
  },
  {
   "cell_type": "code",
   "execution_count": 4,
   "metadata": {},
   "outputs": [
    {
     "data": {
      "text/plain": [
       "[0, 2, 4, 6, 8]"
      ]
     },
     "execution_count": 4,
     "metadata": {},
     "output_type": "execute_result"
    }
   ],
   "source": [
    "evenIntegers(10)"
   ]
  },
  {
   "attachments": {},
   "cell_type": "markdown",
   "metadata": {},
   "source": [
    "## [1.2] Change function above to generator function\n",
    " remove **return** and instead with **yield**"
   ]
  },
  {
   "cell_type": "code",
   "execution_count": 5,
   "metadata": {},
   "outputs": [],
   "source": [
    "# generator solution\n",
    "def evenIntegers(n):    #This one call generator function\n",
    "    for i in range(n):\n",
    "        if i % 2 == 0:\n",
    "            yield i"
   ]
  },
  {
   "cell_type": "code",
   "execution_count": 6,
   "metadata": {},
   "outputs": [
    {
     "data": {
      "text/plain": [
       "<generator object evenIntegers at 0x7fa9fc3f3760>"
      ]
     },
     "execution_count": 6,
     "metadata": {},
     "output_type": "execute_result"
    }
   ],
   "source": [
    "evenIntegers(10)        #Call the generator function it will return generator object \n",
    "                        #Generator object will yield the values."
   ]
  },
  {
   "attachments": {},
   "cell_type": "markdown",
   "metadata": {},
   "source": [
    "## [1.3] You can use this generator object to yield item in whichever sequence"
   ]
  },
  {
   "cell_type": "code",
   "execution_count": 7,
   "metadata": {},
   "outputs": [
    {
     "data": {
      "text/plain": [
       "[0, 2, 4, 6, 8, 10, 12, 14, 16, 18]"
      ]
     },
     "execution_count": 7,
     "metadata": {},
     "output_type": "execute_result"
    }
   ],
   "source": [
    "list(evenIntegers(20))  #Same result with function solution"
   ]
  },
  {
   "attachments": {},
   "cell_type": "markdown",
   "metadata": {},
   "source": [
    " ## [1.4] generator expressions\n",
    " The only syntax difference between list comprehensions and generator expressions is the use of parentheses () rather than brackets [].\n",
    "\n",
    " The **bigger difference** is what they return. A generator expression evaluates to a generator object rather than a list. it only evaluates one item at a time **without storing any sequence in memory**. "
   ]
  },
  {
   "cell_type": "code",
   "execution_count": 9,
   "metadata": {},
   "outputs": [],
   "source": [
    "collection = list(\"aBcdeFg\")"
   ]
  },
  {
   "attachments": {},
   "cell_type": "markdown",
   "metadata": {},
   "source": [
    "### list comprehension"
   ]
  },
  {
   "cell_type": "code",
   "execution_count": 10,
   "metadata": {},
   "outputs": [],
   "source": [
    "# list comprehension\n",
    "newlist = [item.upper() for item in collection]"
   ]
  },
  {
   "attachments": {},
   "cell_type": "markdown",
   "metadata": {},
   "source": [
    "### generator expression"
   ]
  },
  {
   "cell_type": "code",
   "execution_count": 11,
   "metadata": {},
   "outputs": [
    {
     "data": {
      "text/plain": [
       "<generator object <genexpr> at 0x7fa9fc245460>"
      ]
     },
     "execution_count": 11,
     "metadata": {},
     "output_type": "execute_result"
    }
   ],
   "source": [
    "# generator expression\n",
    "(item.upper() for item in collection)"
   ]
  },
  {
   "attachments": {},
   "cell_type": "markdown",
   "metadata": {},
   "source": [
    "```\n",
    "# generator solution\n",
    "def evenIntegers(n):    #This one call generator function\n",
    "    for i in range(n):\n",
    "        if i % 2 == 0:\n",
    "            yield i\n",
    "```\n",
    "Use generator expression **instead function above**\n"
   ]
  },
  {
   "cell_type": "code",
   "execution_count": 12,
   "metadata": {},
   "outputs": [],
   "source": [
    "even_integers = (n for n in range(10) if n%2==0)"
   ]
  },
  {
   "attachments": {},
   "cell_type": "markdown",
   "metadata": {},
   "source": [
    "## [1.5] use generator expression function convert list data to integer "
   ]
  },
  {
   "cell_type": "code",
   "execution_count": 13,
   "metadata": {},
   "outputs": [],
   "source": [
    "#list of mixed format numbers\n",
    "numbers = [4, 88, 7.5, 779.7, '3', \"784\"]\n",
    "\n",
    "#convert numbers to integers using expression\n",
    "integers = (int(n) for n in numbers)"
   ]
  },
  {
   "cell_type": "code",
   "execution_count": 14,
   "metadata": {},
   "outputs": [
    {
     "data": {
      "text/plain": [
       "<generator object <genexpr> at 0x7fa9fc245540>"
      ]
     },
     "execution_count": 14,
     "metadata": {},
     "output_type": "execute_result"
    }
   ],
   "source": [
    "integers"
   ]
  },
  {
   "attachments": {},
   "cell_type": "markdown",
   "metadata": {},
   "source": [
    "## Exercise 1 \n",
    "**Try to build you generator expression to convert a string in list to uppercase**\n",
    "\n",
    "\n",
    "```\n",
    "names_list = ['sathit','tanawat','Altotech','max','cartoon','prawit']\n",
    "```"
   ]
  },
  {
   "cell_type": "code",
   "execution_count": 15,
   "metadata": {},
   "outputs": [
    {
     "data": {
      "text/plain": [
       "['SATHIT', 'TANAWAT', 'ALTOTECH', 'MAX', 'CARTOON', 'PRAWIT']"
      ]
     },
     "execution_count": 15,
     "metadata": {},
     "output_type": "execute_result"
    }
   ],
   "source": [
    "names_list = ['sathit','tanawat','Altotech','max','cartoon','prawit']\n",
    "\n",
    "uppercaseืames = (name.upper() for name in names_list)\n",
    "list(uppercaseืames)"
   ]
  },
  {
   "attachments": {},
   "cell_type": "markdown",
   "metadata": {},
   "source": [
    "# [2] Use generator object --> next()\n",
    "use next() method"
   ]
  },
  {
   "cell_type": "code",
   "execution_count": 16,
   "metadata": {},
   "outputs": [],
   "source": [
    "# generator solution\n",
    "def evenIntegers(n):    #This one call generator function\n",
    "    for i in range(n):\n",
    "        if i % 2 == 0:\n",
    "            yield i"
   ]
  },
  {
   "cell_type": "code",
   "execution_count": 17,
   "metadata": {},
   "outputs": [],
   "source": [
    "evennumber = evenIntegers(20)"
   ]
  },
  {
   "cell_type": "code",
   "execution_count": 18,
   "metadata": {},
   "outputs": [
    {
     "data": {
      "text/plain": [
       "0"
      ]
     },
     "execution_count": 18,
     "metadata": {},
     "output_type": "execute_result"
    }
   ],
   "source": [
    "next(evennumber)        #Try next again"
   ]
  },
  {
   "attachments": {},
   "cell_type": "markdown",
   "metadata": {},
   "source": [
    "# [3] Build a generator pipeline"
   ]
  },
  {
   "attachments": {},
   "cell_type": "markdown",
   "metadata": {},
   "source": [
    "## [3.1] prepair file names.txt"
   ]
  },
  {
   "cell_type": "code",
   "execution_count": 19,
   "metadata": {},
   "outputs": [],
   "source": [
    "data = ['Rhoda Hajdukjo\\n', 'Armanda Pilling\\n', 'joLahoma Mondragon\\n', 'Angle Rase\\n', 'Dave Cudd\\n', 'Dawna Estey\\n', 'Jone Jiron\\n', 'Karina Vandyne\\n', 'Calista Overbay\\n', 'Cherise Retana\\n', 'Pearly Breece\\n', 'Lashanda Demoura\\n', 'Jannie Hickey\\n', 'Tommie Leung\\n', 'Bong Humbertson\\n', 'Clifton Nees\\n', 'Maxwell Coupe\\n', 'Maryam Lyons\\n', 'Vasiliki Stonge\\n', 'Danita Vallance\\n', 'Trisha Belin\\n', 'Salena Dulmage\\n', 'Kellie Acord\\n', 'Rogelio Ponds\\n', 'Sergio Cockrill\\n', 'Elidia Grote\\n', 'Dalia Forth\\n', 'Delaine Creamer\\n', 'Chu Nelson\\n', 'Jenell Henson\\n', 'Serina Watkin\\n', 'Hellen Farley\\n', 'Clarita Jetter\\n', 'Candra Barros\\n', 'Maren Plouffe\\n', 'Tanesha Finkbeiner\\n', 'Mi Vanpelt\\n', 'Leonore Cushman\\n', 'Dwain Mccotter\\n', 'Usha Lurry\\n', 'Alphonse Bellomy\\n', 'Deadra Bisceglia\\n', 'Josefine Montijo\\n', 'Danyel Zeng\\n', 'Cristi Graff\\n', 'Brittanie Talamantes\\n', 'Carolina Powel\\n', 'Voncile Borey\\n', 'Octavio Trumbull\\n', 'Ruth Boxer\\n']\n",
    "f = open(\"names.txt\", 'w')\n",
    "for i in data:\n",
    "    f.write(i)\n",
    "f.close()"
   ]
  },
  {
   "attachments": {},
   "cell_type": "markdown",
   "metadata": {},
   "source": [
    "## [3.2] Try use pipline"
   ]
  },
  {
   "cell_type": "code",
   "execution_count": 20,
   "metadata": {},
   "outputs": [],
   "source": [
    "def separate_names(names):\n",
    "\tfor full_name in names:\n",
    "\t\tfor name in full_name.split(' '):\n",
    "\t\t\tyield name\n",
    "\n",
    "def get_longest(namelist):\n",
    "    full_names = (name.strip() for name in open(namelist))\n",
    "    names = separate_names(full_names)\n",
    "    lengths = ((name, len(name)) for name in names)\n",
    "    return max(lengths, key=lambda x:x[1])"
   ]
  },
  {
   "cell_type": "code",
   "execution_count": 21,
   "metadata": {},
   "outputs": [
    {
     "data": {
      "text/plain": [
       "('Humbertson', 10)"
      ]
     },
     "execution_count": 21,
     "metadata": {},
     "output_type": "execute_result"
    }
   ],
   "source": [
    "get_longest(\"names.txt\")"
   ]
  },
  {
   "attachments": {},
   "cell_type": "markdown",
   "metadata": {},
   "source": [
    "# ANSWER\n",
    "\n",
    "exercise 1\n",
    "```\n",
    "#Converts names to uppercase\n",
    "uppercaseืames = (name.upper() for name in names_list)\n",
    "```"
   ]
  }
 ],
 "metadata": {
  "kernelspec": {
   "display_name": "Python 3 (ipykernel)",
   "language": "python",
   "name": "python3"
  },
  "language_info": {
   "codemirror_mode": {
    "name": "ipython",
    "version": 3
   },
   "file_extension": ".py",
   "mimetype": "text/x-python",
   "name": "python",
   "nbconvert_exporter": "python",
   "pygments_lexer": "ipython3",
   "version": "3.10.11"
  },
  "orig_nbformat": 4
 },
 "nbformat": 4,
 "nbformat_minor": 2
}
