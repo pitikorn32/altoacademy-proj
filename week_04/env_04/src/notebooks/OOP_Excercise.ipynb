{
  "cells": [
    {
      "attachments": {},
      "cell_type": "markdown",
      "metadata": {
        "id": "y44YlbPpX33l"
      },
      "source": [
        "# Classes Excercise"
      ]
    },
    {
      "attachments": {},
      "cell_type": "markdown",
      "metadata": {
        "id": "1Gx3uNeEjQhU"
      },
      "source": [
        "# 1 CREATING AND USING A CLASS"
      ]
    },
    {
      "attachments": {},
      "cell_type": "markdown",
      "metadata": {
        "id": "8Yd-mhF8fkcc"
      },
      "source": [
        "## 1.1 Creating a Class\n",
        "\n",
        "* Each instance created from the Dog class will store a **name** and an **age**.\n",
        "\n",
        "* we’ll give each dog the ability to **sit()** and **roll_over()**"
      ]
    },
    {
      "cell_type": "code",
      "execution_count": 2,
      "metadata": {
        "id": "vBFzPzXtfsgu"
      },
      "outputs": [],
      "source": [
        "class Dog:\n",
        "  \"\"\"A simple attempt to model a dog.\"\"\"\n",
        "\n",
        "  def __init__(self, name, age):\n",
        "    \"\"\"Initialize name and age attributes.\"\"\"\n",
        "    self.name = name\n",
        "    self.age = age\n",
        "  \n",
        "  def sit(self):\n",
        "    \"\"\"Simulate a dog sitting in response to a command.\"\"\"\n",
        "    print(f\"{self.name} is now sitting.\")\n",
        "\n",
        "  def roll_over(self):\n",
        "    \"\"\"Simulate rolling over in response to a command.\"\"\"\n",
        "    print(f\"{self.name} rolled over!\")"
      ]
    },
    {
      "attachments": {},
      "cell_type": "markdown",
      "metadata": {
        "id": "ATHceiVsjI9A"
      },
      "source": [
        "## 1.2 Making an Instance from a Class"
      ]
    },
    {
      "cell_type": "code",
      "execution_count": 3,
      "metadata": {
        "id": "j5IQWQLzktSf"
      },
      "outputs": [],
      "source": [
        "my_dog = Dog('Willie', 6)"
      ]
    },
    {
      "attachments": {},
      "cell_type": "markdown",
      "metadata": {
        "id": "6Fuh6r2yjrN_"
      },
      "source": [
        "**Accessing Attributes**\n",
        "\n",
        "To access the attributes of an instance, you use dot notation.\n",
        "\n",
        "---\n",
        "my_dog.name\n",
        "\n",
        "\n",
        "---"
      ]
    },
    {
      "cell_type": "code",
      "execution_count": 4,
      "metadata": {
        "colab": {
          "base_uri": "https://localhost:8080/"
        },
        "id": "IqPbwt3kjLz7",
        "outputId": "54f96072-d644-4dce-c49b-db53753034a9"
      },
      "outputs": [
        {
          "name": "stdout",
          "output_type": "stream",
          "text": [
            "My dog's name is Willie.\n",
            "My dog is 6 years old.\n"
          ]
        }
      ],
      "source": [
        "print(f\"My dog's name is {my_dog.name}.\")\n",
        "print(f\"My dog is {my_dog.age} years old.\")"
      ]
    },
    {
      "attachments": {},
      "cell_type": "markdown",
      "metadata": {
        "id": "y_DVfXMnhHCV"
      },
      "source": [
        "## 1.3 Calling Methods\n",
        "After we create an instance from the class Dog, we can use dot notation to call any method defined in Dog. Let’s make our dog sit and roll over:"
      ]
    },
    {
      "cell_type": "code",
      "execution_count": 5,
      "metadata": {
        "colab": {
          "base_uri": "https://localhost:8080/"
        },
        "id": "UQP3coxVhMo6",
        "outputId": "fd9d69d3-c1e1-4b29-e737-d238c0faf655"
      },
      "outputs": [
        {
          "name": "stdout",
          "output_type": "stream",
          "text": [
            "Willie is now sitting.\n",
            "Willie rolled over!\n"
          ]
        }
      ],
      "source": [
        "my_dog.sit()\n",
        "my_dog.roll_over()"
      ]
    },
    {
      "attachments": {},
      "cell_type": "markdown",
      "metadata": {
        "id": "Qh3QIepegUVd"
      },
      "source": [
        "## 1.4 Creating Multiple Instances\n",
        "\n",
        "You can create as many instances from a class as you need. Let’s create a second dog called your_dog:"
      ]
    },
    {
      "cell_type": "code",
      "execution_count": 6,
      "metadata": {
        "colab": {
          "base_uri": "https://localhost:8080/"
        },
        "id": "9-c4MWOIgPus",
        "outputId": "696db007-62cb-449b-eb96-418e25abbda3"
      },
      "outputs": [
        {
          "name": "stdout",
          "output_type": "stream",
          "text": [
            "My dog's name is Willie.\n",
            "My dog is 6 years old.\n",
            "Willie is now sitting.\n",
            "\n",
            "Your dog's name is Lucy.\n",
            "Your dog is 3 years old.\n",
            "Lucy is now sitting.\n"
          ]
        }
      ],
      "source": [
        "my_dog = Dog('Willie', 6)\n",
        "your_dog = Dog('Lucy', 3)\n",
        "\n",
        "print(f\"My dog's name is {my_dog.name}.\")\n",
        "print(f\"My dog is {my_dog.age} years old.\")\n",
        "my_dog.sit()\n",
        "\n",
        "print(f\"\\nYour dog's name is {your_dog.name}.\")\n",
        "print(f\"Your dog is {your_dog.age} years old.\")\n",
        "your_dog.sit()"
      ]
    },
    {
      "attachments": {},
      "cell_type": "markdown",
      "metadata": {
        "id": "J9DgeAbPlxNY"
      },
      "source": [
        "\n",
        "\n",
        "---\n",
        "\n",
        "\n",
        "## 1.5 TRY IT YOURSELF"
      ]
    },
    {
      "attachments": {},
      "cell_type": "markdown",
      "metadata": {
        "id": "d7JH8uqrl8Mx"
      },
      "source": [
        "### 1.5.1 class Restaurant:\n",
        "\n",
        "* Make a class called **Restaurant**.\n",
        "* The **__ init __( )** method for Restaurant should store two attributes:\n",
        "  1.   **restaurant_name**\n",
        "  2.   **cuisine_type**\n",
        "\n",
        "\n",
        "* Make two methods called\n",
        "  1. **describe_restaurant( )** that prints these two pieces of information,\n",
        "  2. **open_restaurant( )** that prints a message indicating that the restaurant is open.\n",
        "\n"
      ]
    },
    {
      "cell_type": "code",
      "execution_count": 7,
      "metadata": {
        "id": "x4jgvTTRmNrE"
      },
      "outputs": [],
      "source": [
        "# Write your code here.\n",
        "class Restaurant:\n",
        "    def __init__(self, restaurant_name, cuisine_type):\n",
        "        self.restaurant_name = restaurant_name\n",
        "        self.cuisine_type = cuisine_type\n",
        "    def decribe_restuarant(self):\n",
        "        print(f\"The restaurant name is {self.restaurant_name}.\")\n",
        "        print(f\"The cuisine type is {self.cuisine_type}.\")\n",
        "    def open_restuarant(self):\n",
        "        print(f\"The restaurant {self.restaurant_name} is open.\")"
      ]
    },
    {
      "attachments": {},
      "cell_type": "markdown",
      "metadata": {
        "id": "0PlCdd-IwmgM"
      },
      "source": [
        "* Make an instance called **restaurant** from your class.\n",
        "* Print the two attributes individually\n",
        "* Then call both methods."
      ]
    },
    {
      "cell_type": "code",
      "execution_count": 8,
      "metadata": {
        "id": "er_kPyFOwtO0"
      },
      "outputs": [
        {
          "name": "stdout",
          "output_type": "stream",
          "text": [
            "The Mean Queen\n",
            "Pizza\n",
            "The restaurant name is The Mean Queen.\n",
            "The cuisine type is Pizza.\n",
            "The restaurant The Mean Queen is open.\n"
          ]
        }
      ],
      "source": [
        "# Write your code here.\n",
        "restaurant = Restaurant(\"The Mean Queen\", \"Pizza\")\n",
        "print(restaurant.restaurant_name)\n",
        "print(restaurant.cuisine_type)\n",
        "restaurant.decribe_restuarant()\n",
        "restaurant.open_restuarant()"
      ]
    },
    {
      "attachments": {},
      "cell_type": "markdown",
      "metadata": {
        "id": "MAgRNQLLmOEU"
      },
      "source": [
        "### 1.5.2 Three Restaurants\n",
        "\n",
        "* Start with your class from Exercise 1.\n",
        "* Create three different instances from the class, and call **describe_restaurant( )** for each instance."
      ]
    },
    {
      "cell_type": "code",
      "execution_count": 10,
      "metadata": {
        "id": "H-r6SPW0p5II"
      },
      "outputs": [
        {
          "name": "stdout",
          "output_type": "stream",
          "text": [
            "The Mean Queen\n",
            "Pizza\n",
            "The restaurant name is The Mean Queen.\n",
            "The cuisine type is Pizza.\n",
            "\n",
            "Swenzen\n",
            "Dessert\n",
            "The restaurant name is Swenzen.\n",
            "The cuisine type is Dessert.\n",
            "\n",
            "MK\n",
            "Hotpot\n",
            "The restaurant name is MK.\n",
            "The cuisine type is Hotpot.\n"
          ]
        }
      ],
      "source": [
        "# Write your code here.\n",
        "restaurant1 = Restaurant(\"The Mean Queen\", \"Pizza\")\n",
        "print(restaurant1.restaurant_name)\n",
        "print(restaurant1.cuisine_type)\n",
        "restaurant1.decribe_restuarant()\n",
        "print()\n",
        "\n",
        "restaurant2 = Restaurant(\"Swenzen\", \"Dessert\")\n",
        "print(restaurant2.restaurant_name)\n",
        "print(restaurant2.cuisine_type)\n",
        "restaurant2.decribe_restuarant()\n",
        "print()\n",
        "\n",
        "restaurant3 = Restaurant(\"MK\", \"Hotpot\")\n",
        "print(restaurant3.restaurant_name)\n",
        "print(restaurant3.cuisine_type)\n",
        "restaurant3.decribe_restuarant()"
      ]
    },
    {
      "attachments": {},
      "cell_type": "markdown",
      "metadata": {
        "id": "gFsXtH3-mYsA"
      },
      "source": [
        "### 1.5.3 class Users:\n",
        "\n",
        "* Make a class called **User**.\n",
        "* Create two attributes called\n",
        "  1. **first_name**\n",
        "  2. **last_name**\n",
        "  3. other **attributes** that are typically stored in a user profile.\n",
        "\n",
        "* Make two methods called\n",
        "  1. **describe_user()** that prints a summary of the user’s information.\n",
        "  2. **greet_user()** that prints a personalized greeting to the user."
      ]
    },
    {
      "cell_type": "code",
      "execution_count": 11,
      "metadata": {
        "id": "JQrv2CHwmgBH"
      },
      "outputs": [],
      "source": [
        "# Write your code here.\n",
        "class User:\n",
        "    def __init__(self, first_name, last_name) -> None:\n",
        "        self.first_name = first_name\n",
        "        self.last_name = last_name\n",
        "\n",
        "    def describe_user(self) -> None:\n",
        "        print(f\"first name: {self.first_name}\")\n",
        "        print(f\"last name: {self.last_name}\")\n",
        "    \n",
        "    def greet_user(self) -> None:\n",
        "        print(f\"Hi, {self.first_name} {self.last_name}\")"
      ]
    },
    {
      "attachments": {},
      "cell_type": "markdown",
      "metadata": {
        "id": "2YyokRDhEHcm"
      },
      "source": [
        "* Create several instances representing different users, and call both methods for each user."
      ]
    },
    {
      "cell_type": "code",
      "execution_count": 12,
      "metadata": {
        "id": "4H0X6ah2EIgl"
      },
      "outputs": [
        {
          "name": "stdout",
          "output_type": "stream",
          "text": [
            "first name: Pitikorn\n",
            "last name: Khlaisamniang\n",
            "Hi, Pitikorn Khlaisamniang\n",
            "\n",
            "first name: Petanque\n",
            "last name: Zuckerberberg\n",
            "Hi, Petanque Zuckerberberg\n"
          ]
        }
      ],
      "source": [
        "# Write your code here.\n",
        "\n",
        "user1 = User(first_name=\"Pitikorn\", last_name=\"Khlaisamniang\")\n",
        "user1.describe_user()\n",
        "user1.greet_user()\n",
        "print()\n",
        "\n",
        "user2 = User(first_name=\"Petanque\", last_name=\"Zuckerberberg\")\n",
        "user2.describe_user()\n",
        "user2.greet_user()"
      ]
    },
    {
      "attachments": {},
      "cell_type": "markdown",
      "metadata": {
        "id": "dGLi60vOXtz0"
      },
      "source": [
        "# 2 WORKING WITH CLASSES"
      ]
    },
    {
      "attachments": {},
      "cell_type": "markdown",
      "metadata": {
        "id": "jay1C0ccezO0"
      },
      "source": [
        "## 2.1 The Car Class\n",
        "\n",
        "Let’s write a new class representing a car. Our class will store information about the kind of car we’re working with, and it will have a method that summarizes this information:"
      ]
    },
    {
      "cell_type": "code",
      "execution_count": 13,
      "metadata": {
        "colab": {
          "base_uri": "https://localhost:8080/"
        },
        "id": "qfOVcAbjelk1",
        "outputId": "951234a8-2706-493f-f334-d84abfac561d"
      },
      "outputs": [
        {
          "name": "stdout",
          "output_type": "stream",
          "text": [
            "2019 Audi A4\n"
          ]
        }
      ],
      "source": [
        "class Car:\n",
        "  \"\"\"A simple attempt to represent a car.\"\"\"\n",
        "  \n",
        "  def __init__(self, make, model, year):\n",
        "    \"\"\"Initialize attributes to describe a car.\"\"\"\n",
        "    self.make = make\n",
        "    self.model = model\n",
        "    self.year = year\n",
        "  \n",
        "  def get_descriptive_name(self):\n",
        "    \"\"\"Return a neatly formatted descriptive name.\"\"\"\n",
        "    long_name = f\"{self.year} {self.make} {self.model}\"\n",
        "    return long_name.title()\n",
        "\n",
        "my_new_car = Car('audi', 'a4', 2019)\n",
        "print(my_new_car.get_descriptive_name())"
      ]
    },
    {
      "attachments": {},
      "cell_type": "markdown",
      "metadata": {
        "id": "iUwqiTI7Zeqo"
      },
      "source": [
        "## 2.2 Setting a Default Value for an Attribute\n",
        "\n",
        "* When an instance is created, attributes can be defined without being passed in as parameters. These attributes can be defined in the __init__() method, where they are assigned a default value.\n",
        "\n",
        "* Let’s add an attribute called **odometer_reading** that always starts with a value of 0. We’ll also add a method **read_odometer()** that helps us read each car’s odometer:"
      ]
    },
    {
      "cell_type": "code",
      "execution_count": 15,
      "metadata": {
        "colab": {
          "base_uri": "https://localhost:8080/"
        },
        "id": "6mU4tQ9-3TBj",
        "outputId": "4cd91c49-ca56-426b-df9e-507ed4feff6b"
      },
      "outputs": [
        {
          "name": "stdout",
          "output_type": "stream",
          "text": [
            "2019 Audi A4\n",
            "This car has 0 miles on it.\n"
          ]
        }
      ],
      "source": [
        "class Car:\n",
        "  \"\"\"A simple attempt to represent a car.\"\"\"\n",
        "\n",
        "  def __init__(self, make, model, year):\n",
        "      self.make = make\n",
        "      self.model = model\n",
        "      self.year = year\n",
        "\n",
        "      # New Atrribute\n",
        "      self.odometer_reading = 0\n",
        "\n",
        "  def get_descriptive_name(self):\n",
        "      long_name = f\"{self.year} {self.make} {self.model}\"\n",
        "      return long_name.title()\n",
        "\n",
        "  # New Method\n",
        "  def read_odometer(self):\n",
        "      print(f\"This car has {self.odometer_reading} miles on it.\")\n",
        "\n",
        "\n",
        "my_new_car = Car('audi', 'a4', 2019)\n",
        "print(my_new_car.get_descriptive_name())\n",
        "my_new_car.read_odometer()"
      ]
    },
    {
      "attachments": {},
      "cell_type": "markdown",
      "metadata": {
        "id": "758VWretZhnR"
      },
      "source": [
        "\n",
        "\n",
        "---\n",
        "\n",
        "\n",
        "## 2.3 Modifying Attribute Values\n",
        "\n",
        "You can change an attribute’s value in three ways:\n",
        "\n",
        "1. you can change the value directly through an instance\n",
        "2. set the value through a method\n",
        "3. increment the value (add a certain amount to it) through a method.\n",
        "\n",
        "Let’s look at each of these approaches."
      ]
    },
    {
      "attachments": {},
      "cell_type": "markdown",
      "metadata": {
        "id": "AJciRh9Nrqtd"
      },
      "source": [
        "### 2.3.1 Modifying an Attribute’s Value Directly\n",
        "\n",
        "Here we set the odometer reading to 23 directly:"
      ]
    },
    {
      "cell_type": "code",
      "execution_count": 16,
      "metadata": {
        "colab": {
          "base_uri": "https://localhost:8080/"
        },
        "id": "AAFpdQMUsDOX",
        "outputId": "9e4a6907-b870-4f28-fd1a-1e3b720b1ae3"
      },
      "outputs": [
        {
          "name": "stdout",
          "output_type": "stream",
          "text": [
            "2019 Audi A4\n",
            "This car has 23 miles on it.\n"
          ]
        }
      ],
      "source": [
        "my_new_car = Car('audi', 'a4', 2019)\n",
        "print(my_new_car.get_descriptive_name())\n",
        "\n",
        "my_new_car.odometer_reading = 23\n",
        "my_new_car.read_odometer()"
      ]
    },
    {
      "attachments": {},
      "cell_type": "markdown",
      "metadata": {
        "id": "X38JRcjhsqCO"
      },
      "source": [
        "### 2.3.2 Modifying an Attribute’s Value Through a Method"
      ]
    },
    {
      "cell_type": "code",
      "execution_count": 17,
      "metadata": {
        "colab": {
          "base_uri": "https://localhost:8080/"
        },
        "id": "Q9UVhAzns4KF",
        "outputId": "cdd0f090-332d-41db-e334-8951d7348c91"
      },
      "outputs": [
        {
          "name": "stdout",
          "output_type": "stream",
          "text": [
            "2019 Audi A4\n",
            "This car has 23 miles on it.\n"
          ]
        }
      ],
      "source": [
        "class Car:\n",
        "  \"\"\"A simple attempt to represent a car.\"\"\"\n",
        "\n",
        "  def __init__(self, make, model, year):\n",
        "      self.make = make\n",
        "      self.model = model\n",
        "      self.year = year\n",
        "      self.odometer_reading = 0\n",
        "\n",
        "  def get_descriptive_name(self):\n",
        "      long_name = f\"{self.year} {self.make} {self.model}\"\n",
        "      return long_name.title()\n",
        "\n",
        "  def read_odometer(self):\n",
        "      print(f\"This car has {self.odometer_reading} miles on it.\")\n",
        "\n",
        "  # New Method\n",
        "  def update_odometer(self, mileage):\n",
        "      \"\"\"Set the odometer reading to the given value.\"\"\"\n",
        "      self.odometer_reading = mileage\n",
        "\n",
        "\n",
        "\n",
        "my_new_car = Car('audi', 'a4', 2019)\n",
        "print(my_new_car.get_descriptive_name())\n",
        "\n",
        "my_new_car.update_odometer(23)\n",
        "my_new_car.read_odometer()"
      ]
    },
    {
      "attachments": {},
      "cell_type": "markdown",
      "metadata": {
        "id": "r5XLQSU3tiJB"
      },
      "source": [
        "### 2.3.3 Incrementing an Attribute’s Value Through a Method"
      ]
    },
    {
      "cell_type": "code",
      "execution_count": 18,
      "metadata": {
        "colab": {
          "base_uri": "https://localhost:8080/",
          "height": 68
        },
        "id": "Ps_ivdBmttIy",
        "outputId": "3f4b7230-dd1f-40cc-b3e6-c1e8700bb842"
      },
      "outputs": [
        {
          "name": "stdout",
          "output_type": "stream",
          "text": [
            "2015 Subaru Outback\n",
            "This car has 23500 miles on it.\n",
            "This car has 23600 miles on it.\n"
          ]
        }
      ],
      "source": [
        "class Car:\n",
        "  \"\"\"A simple attempt to represent a car.\"\"\"\n",
        "\n",
        "  def __init__(self, make, model, year):\n",
        "      self.make = make\n",
        "      self.model = model\n",
        "      self.year = year\n",
        "      self.odometer_reading = 0\n",
        "\n",
        "  def get_descriptive_name(self):\n",
        "      long_name = f\"{self.year} {self.make} {self.model}\"\n",
        "      return long_name.title()\n",
        "\n",
        "  def read_odometer(self):\n",
        "      print(f\"This car has {self.odometer_reading} miles on it.\")\n",
        "\n",
        "  def update_odometer(self, mileage):\n",
        "      \"\"\"Set the odometer reading to the given value.\"\"\"\n",
        "      self.odometer_reading = mileage\n",
        "\n",
        "  # New Method\n",
        "  def increment_odometer(self, miles):\n",
        "    \"\"\"Add the given amount to the odometer reading.\"\"\"\n",
        "    self.odometer_reading += miles\n",
        "\n",
        "\n",
        "\n",
        "my_used_car = Car('subaru', 'outback', 2015)\n",
        "print(my_used_car.get_descriptive_name())\n",
        "\n",
        "my_used_car.update_odometer(23500)\n",
        "my_used_car.read_odometer()\n",
        "\n",
        "my_used_car.increment_odometer(100)\n",
        "my_used_car.read_odometer()"
      ]
    },
    {
      "attachments": {},
      "cell_type": "markdown",
      "metadata": {
        "id": "XtWK1VYrt6Ql"
      },
      "source": [
        "## 2.4 TRY IT YOURSELF"
      ]
    },
    {
      "attachments": {},
      "cell_type": "markdown",
      "metadata": {
        "id": "oVREAaDfvmeU"
      },
      "source": [
        "### 2.4.1 Number Served\n",
        "\n",
        "* Start with your program from **Exercise 1.5.1**\n",
        "\n",
        "* Add an attribute called **number_served** with a default value of 0."
      ]
    },
    {
      "cell_type": "code",
      "execution_count": 34,
      "metadata": {
        "id": "FG5ZVfk2wReL"
      },
      "outputs": [],
      "source": [
        "# Write your code here.\n",
        "class Restaurant:\n",
        "    def __init__(self, restaurant_name, cuisine_type):\n",
        "        self.restaurant_name = restaurant_name\n",
        "        self.cuisine_type = cuisine_type\n",
        "        self.number_served = 0\n",
        "\n",
        "    def decribe_restuarant(self):\n",
        "        print(f\"The restaurant name is {self.restaurant_name}.\")\n",
        "        print(f\"The cuisine type is {self.cuisine_type}.\")\n",
        "\n",
        "    def open_restuarant(self):\n",
        "        print(f\"The restaurant {self.restaurant_name} is open.\")\n",
        "\n",
        "    def read_numberserved(self):\n",
        "        return self.number_served"
      ]
    },
    {
      "attachments": {},
      "cell_type": "markdown",
      "metadata": {
        "id": "qyoGxtINyTjv"
      },
      "source": [
        "* Create an instance called **restaurant** from this class.\n",
        "  1. Print the number of customers the restaurant has served\n",
        "  2. Then change this value and print it again."
      ]
    },
    {
      "cell_type": "code",
      "execution_count": 35,
      "metadata": {
        "colab": {
          "base_uri": "https://localhost:8080/"
        },
        "id": "IjoMxrYTyUDZ",
        "outputId": "fda39b65-1603-4d6b-b206-7b17a5177c1b"
      },
      "outputs": [
        {
          "name": "stdout",
          "output_type": "stream",
          "text": [
            "0\n",
            "3\n"
          ]
        }
      ],
      "source": [
        "# Write your code here.\n",
        "restaurant = Restaurant(\"BBQ\",\"Barbegon\")\n",
        "print(f\"{restaurant.read_numberserved()}\")\n",
        "restaurant.number_served = 3 \n",
        "print(restaurant.number_served)\n"
      ]
    },
    {
      "attachments": {},
      "cell_type": "markdown",
      "metadata": {
        "id": "qaEwNHolxRTu"
      },
      "source": [
        "* Add a method called **set_number_served()** that lets you set the number of customers that have been served.\n",
        "* Call this method with a new number and print the value again."
      ]
    },
    {
      "cell_type": "code",
      "execution_count": 40,
      "metadata": {
        "id": "diDk3dcSwBiq"
      },
      "outputs": [],
      "source": [
        "# Write your code here.\n",
        "class Restaurant:\n",
        "    def __init__(self, restaurant_name, cuisine_type):\n",
        "        self.restaurant_name = restaurant_name\n",
        "        self.cuisine_type = cuisine_type\n",
        "        self.number_served = 0\n",
        "\n",
        "    def decribe_restuarant(self):\n",
        "        print(f\"The restaurant name is {self.restaurant_name}.\")\n",
        "        print(f\"The cuisine type is {self.cuisine_type}.\")\n",
        "\n",
        "    def open_restuarant(self):\n",
        "        print(f\"The restaurant {self.restaurant_name} is open.\")\n",
        "\n",
        "    def read_numberserved(self):\n",
        "        return self.number_served\n",
        "\n",
        "    def set_number_served(self, new_number_served):\n",
        "        self.number_served = new_number_served\n",
        "        print(f\"new number served: {self.number_served}\")\n"
      ]
    },
    {
      "cell_type": "code",
      "execution_count": 41,
      "metadata": {},
      "outputs": [
        {
          "name": "stdout",
          "output_type": "stream",
          "text": [
            "0\n",
            "new number served: 3\n"
          ]
        }
      ],
      "source": [
        "# Write your code here.\n",
        "restaurant = Restaurant(\"BBQ\",\"Barbegon\")\n",
        "print(f\"{restaurant.read_numberserved()}\")\n",
        "restaurant.set_number_served(3) "
      ]
    },
    {
      "attachments": {},
      "cell_type": "markdown",
      "metadata": {
        "id": "xGMHAySoyrAh"
      },
      "source": [
        "* Add a method called **increment_number_served()** that lets you increment the number of customers who’ve been served.\n",
        "* Call this method with any number you like that could represent how many customers were served in, say, a day of business."
      ]
    },
    {
      "cell_type": "code",
      "execution_count": 44,
      "metadata": {
        "id": "Ts5_l8Toy2N7"
      },
      "outputs": [],
      "source": [
        "# Write your code here.\n",
        "# Write your code here.\n",
        "class Restaurant:\n",
        "    def __init__(self, restaurant_name, cuisine_type):\n",
        "        self.restaurant_name = restaurant_name\n",
        "        self.cuisine_type = cuisine_type\n",
        "        self.number_served = 0\n",
        "\n",
        "    def decribe_restuarant(self):\n",
        "        print(f\"The restaurant name is {self.restaurant_name}.\")\n",
        "        print(f\"The cuisine type is {self.cuisine_type}.\")\n",
        "\n",
        "    def open_restuarant(self):\n",
        "        print(f\"The restaurant {self.restaurant_name} is open.\")\n",
        "\n",
        "    def read_numberserved(self):\n",
        "        return self.number_served\n",
        "\n",
        "    def set_number_served(self, new_number_served):\n",
        "        self.number_served = new_number_served\n",
        "        print(f\"new number served: {self.number_served}\")\n",
        "\n",
        "    def increment_number_served(self, number_served_add):\n",
        "        self.number_served += number_served_add\n",
        "        print(f\"add {number_served_add} served -> total number served: {self.number_served}\")"
      ]
    },
    {
      "cell_type": "code",
      "execution_count": 45,
      "metadata": {},
      "outputs": [
        {
          "name": "stdout",
          "output_type": "stream",
          "text": [
            "0\n",
            "new number served: 3\n",
            "add 5 served -> total number served: 8\n"
          ]
        }
      ],
      "source": [
        "# Write your code here.\n",
        "restaurant = Restaurant(\"BBQ\",\"Barbegon\")\n",
        "print(f\"{restaurant.read_numberserved()}\")\n",
        "restaurant.set_number_served(3) \n",
        "restaurant.increment_number_served(5)"
      ]
    },
    {
      "attachments": {},
      "cell_type": "markdown",
      "metadata": {
        "id": "ZH0Y-QrExifY"
      },
      "source": [
        "### 2.4.2 Login Attempts\n",
        "\n",
        "* Add an attribute called **login_attempts** to your User class from **Exercise 1.5.3**.\n",
        "\n",
        "* Write a method called **increment_login_attempts()** that increments the value of login_attempts by 1."
      ]
    },
    {
      "cell_type": "code",
      "execution_count": 46,
      "metadata": {
        "id": "cis3_RikyALX"
      },
      "outputs": [],
      "source": [
        "# Write your code here.\n",
        "class User:\n",
        "    def __init__(self, first_name, last_name) -> None:\n",
        "        self.first_name = first_name\n",
        "        self.last_name = last_name\n",
        "        self.login_attempts = 0\n",
        "\n",
        "    def describe_user(self) -> None:\n",
        "        print(f\"first name: {self.first_name}\")\n",
        "        print(f\"last name: {self.last_name}\")\n",
        "\n",
        "    def greet_user(self) -> None:\n",
        "        print(f\"Hi, {self.first_name} {self.last_name}\")\n",
        "\n",
        "    def increment_login_attemps(self):\n",
        "        self.login_attempts += 1"
      ]
    },
    {
      "attachments": {},
      "cell_type": "markdown",
      "metadata": {
        "id": "2n0y28esyFUH"
      },
      "source": [
        "* Write another method called **reset_login_attempts()** that resets the value of **login_attempts** to 0."
      ]
    },
    {
      "cell_type": "code",
      "execution_count": 47,
      "metadata": {
        "id": "Oic6cOoEyF4W"
      },
      "outputs": [],
      "source": [
        "# Write your code here.\n",
        "class User:\n",
        "    def __init__(self, first_name, last_name) -> None:\n",
        "        self.first_name = first_name\n",
        "        self.last_name = last_name\n",
        "        self.login_attempts = 0\n",
        "\n",
        "    def describe_user(self) -> None:\n",
        "        print(f\"first name: {self.first_name}\")\n",
        "        print(f\"last name: {self.last_name}\")\n",
        "\n",
        "    def greet_user(self) -> None:\n",
        "        print(f\"Hi, {self.first_name} {self.last_name}\")\n",
        "\n",
        "    def increment_login_attemps(self):\n",
        "        self.login_attempts += 1\n",
        "\n",
        "    def reset_login_attempts(self):\n",
        "        self.login_attempts = 0"
      ]
    },
    {
      "attachments": {},
      "cell_type": "markdown",
      "metadata": {
        "id": "xX_DrWMayAe2"
      },
      "source": [
        "* Make an instance of the User class and call **increment_login_attempts()** several times.\n",
        "\n",
        "* Print the value of **login_attempts** to make sure it was incremented properly, and then call **reset_login_attempts()**.\n",
        "* Print **login_attempts** again to make sure it was reset to 0."
      ]
    },
    {
      "cell_type": "code",
      "execution_count": 52,
      "metadata": {
        "id": "OHhj4E3jyBRp"
      },
      "outputs": [
        {
          "name": "stdout",
          "output_type": "stream",
          "text": [
            "first name: Pitikorn\n",
            "last name: Khlaisamniang\n",
            "Hi, Pitikorn Khlaisamniang\n",
            "total login: 1\n",
            "total login: 2\n",
            "total login: 3\n",
            "total login: 4\n",
            "total login: 0\n",
            "total login: 1\n"
          ]
        }
      ],
      "source": [
        "# Write your code here.\n",
        "\n",
        "user = User(first_name=\"Pitikorn\", last_name=\"Khlaisamniang\")\n",
        "user.describe_user()\n",
        "user.greet_user()\n",
        "user.increment_login_attemps()\n",
        "print(f\"total login: {user.login_attempts}\")\n",
        "\n",
        "user.increment_login_attemps()\n",
        "print(f\"total login: {user.login_attempts}\")\n",
        "user.increment_login_attemps()\n",
        "print(f\"total login: {user.login_attempts}\")\n",
        "user.increment_login_attemps()\n",
        "print(f\"total login: {user.login_attempts}\")\n",
        "\n",
        "# reset login attemps\n",
        "user.reset_login_attempts()\n",
        "print(f\"total login: {user.login_attempts}\")\n",
        "\n",
        "user.increment_login_attemps()\n",
        "print(f\"total login: {user.login_attempts}\")"
      ]
    },
    {
      "attachments": {},
      "cell_type": "markdown",
      "metadata": {
        "id": "gPTYU2Jet-A1"
      },
      "source": [
        "# 3 INHERITANCE\n",
        "\n",
        "* You don’t always have to start from scratch when writing a class.\n",
        "\n",
        "* If the class you’re writing is a specialized version of another class you wrote, you can use **inheritance**.\n",
        "\n",
        "* When one class inherits from another, it takes on the **attributes** and **methods** of the first class.\n",
        "\n",
        "* The original class is called the ***parent class***, and the new class is the ***child class***."
      ]
    },
    {
      "cell_type": "code",
      "execution_count": 53,
      "metadata": {
        "id": "rMMnA9l_ZkJK"
      },
      "outputs": [],
      "source": [
        "# electric_car.py\n",
        "\n",
        "class Car:\n",
        "  \"\"\"A simple attempt to represent a car.\"\"\"\n",
        "\n",
        "  def __init__(self, make, model, year):\n",
        "      self.make = make\n",
        "      self.model = model\n",
        "      self.year = year\n",
        "      self.odometer_reading = 0\n",
        "\n",
        "  def get_descriptive_name(self):\n",
        "      long_name = f\"{self.year} {self.make} {self.model}\"\n",
        "      return long_name.title()\n",
        "\n",
        "  def read_odometer(self):\n",
        "      print(f\"This car has {self.odometer_reading} miles on it.\")\n",
        "\n",
        "  def update_odometer(self, mileage):\n",
        "      \"\"\"Set the odometer reading to the given value.\"\"\"\n",
        "      self.odometer_reading = mileage\n",
        "\n",
        "  def increment_odometer(self, miles):\n",
        "    \"\"\"Add the given amount to the odometer reading.\"\"\"\n",
        "    self.odometer_reading += miles"
      ]
    },
    {
      "attachments": {},
      "cell_type": "markdown",
      "metadata": {
        "id": "wJrjyBQg0KTS"
      },
      "source": [
        "## 3.1 The **__ init __( )** Method for a Child Class\n",
        "\n",
        "* When you’re writing a new class based on an existing class, you’ll often want to call the **__ init __( )** method from the parent class.\n",
        "\n",
        "* This will initialize any attributes that were defined in the parent **__ init __( )** method and make them available in the child class."
      ]
    },
    {
      "cell_type": "code",
      "execution_count": 54,
      "metadata": {
        "colab": {
          "base_uri": "https://localhost:8080/",
          "height": 34
        },
        "id": "Y6gxLYyy0486",
        "outputId": "9e416553-b282-4263-b6bb-fab77c75e80d"
      },
      "outputs": [
        {
          "name": "stdout",
          "output_type": "stream",
          "text": [
            "2019 Tesla Model S\n"
          ]
        }
      ],
      "source": [
        "# electric_car.py\n",
        "\n",
        "class ElectricCar(Car):\n",
        "  \"\"\"Represent aspects of a car, specific to electric vehicles.\"\"\"\n",
        "  \n",
        "  def __init__(self, make, model, year):\n",
        "    \"\"\"Initialize attributes of the parent class.\"\"\"\n",
        "    super().__init__(make, model, year)\n",
        "\n",
        "\n",
        "\n",
        "my_tesla = ElectricCar('tesla', 'model s', 2019)\n",
        "print(my_tesla.get_descriptive_name())"
      ]
    },
    {
      "attachments": {},
      "cell_type": "markdown",
      "metadata": {
        "id": "W4yQ0MLq1InI"
      },
      "source": [
        "## 3.2 Defining Attributes and Methods for the Child Class\n",
        "\n",
        "* Once you have a ***child class*** that inherits from a ***parent class***, you can add any new **attributes** and **methods** necessary to differentiate the child class from the parent class."
      ]
    },
    {
      "cell_type": "code",
      "execution_count": 55,
      "metadata": {
        "colab": {
          "base_uri": "https://localhost:8080/"
        },
        "id": "sEk-ZZvI1J-2",
        "outputId": "029a5ea8-b617-4e04-d309-91b4ecf59c77"
      },
      "outputs": [
        {
          "name": "stdout",
          "output_type": "stream",
          "text": [
            "2019 Tesla Model S\n",
            "This car has a 75-kWh battery.\n"
          ]
        }
      ],
      "source": [
        "# electric_car.py\n",
        "\n",
        "class ElectricCar(Car):\n",
        "  \"\"\"Represent aspects of a car, specific to electric vehicles.\"\"\"\n",
        "  \n",
        "  def __init__(self, make, model, year):\n",
        "    \"\"\"Initialize attributes of the parent class.\"\"\"\n",
        "    super().__init__(make, model, year)\n",
        "    self.battery_size = 75\n",
        "\n",
        "  def describe_battery(self):\n",
        "    \"\"\"Print a statement describing the battery size.\"\"\"\n",
        "    print(f\"This car has a {self.battery_size}-kWh battery.\")\n",
        "\n",
        "\n",
        "\n",
        "my_tesla = ElectricCar('tesla', 'model s', 2019)\n",
        "print(my_tesla.get_descriptive_name())\n",
        "my_tesla.describe_battery()"
      ]
    },
    {
      "attachments": {},
      "cell_type": "markdown",
      "metadata": {
        "id": "eV3A7pFqaau4"
      },
      "source": [
        "## 3.3 Overriding Methods from the Parent Class\n",
        "\n",
        "* You can override any method from the ***parent class*** that doesn’t fit what you’re trying to model with the ***child class***.\n",
        "\n",
        "* To do this, you define a method in the ***child class*** with the same name as the method you want to override in the ***parent class***.\n",
        "\n",
        "* Python will disregard the ***parent class*** **method** and only pay attention to the **method** you define in the ***child class***.\n",
        "\n",
        "\n",
        "> Say the class Car had a method called **fill_gas_tank()**. This method is meaningless for an all-electric vehicle, so you might want to override this method. Here’s one way to do that:\n",
        "\n"
      ]
    },
    {
      "cell_type": "code",
      "execution_count": 56,
      "metadata": {
        "id": "cwj_lZmAYM8X"
      },
      "outputs": [],
      "source": [
        "# electric_car.py\n",
        "\n",
        "class ElectricCar(Car):\n",
        "  \"\"\"Represent aspects of a car, specific to electric vehicles.\"\"\"\n",
        "\n",
        "  def __init__(self, make, model, year):\n",
        "    \"\"\"\n",
        "    Initialize attributes of the parent class.\n",
        "    Then initialize attributes specific to an electric car.\n",
        "    \"\"\"\n",
        "    super().__init__(make, model, year)\n",
        "    self.battery_size = 75\n",
        "\n",
        "  def describe_battery(self):\n",
        "    \"\"\"Print a statement describing the battery size.\"\"\"\n",
        "    print(f\"This car has a {self.battery_size}-kWh battery.\")\n",
        "\n",
        "  # New Method\n",
        "  def fill_gas_tank(self):\n",
        "    \"\"\"Electric cars don't have gas tanks.\"\"\"\n",
        "    print(\"This car doesn't need a gas tank!\")\n",
        "\n",
        "\n",
        "\n",
        "# Now if someone tries to call fill_gas_tank() with an electric car,\n",
        "# Python will ignore the method fill_gas_tank() in Car and run this code instead."
      ]
    },
    {
      "attachments": {},
      "cell_type": "markdown",
      "metadata": {
        "id": "XGudTHbv-ZEt"
      },
      "source": [
        "## 3.4 Instances as Attributes\n",
        "\n",
        "\n",
        "* In code, you’ll find that you have a growing list of **attributes** and **methods** and that your files are becoming lengthy.\n",
        "\n",
        "* In these situations, you might recognize that part of one class can be written as a ***separate class***.\n",
        "\n",
        "* You can break your ***large class*** into ***smaller classes*** that work together."
      ]
    },
    {
      "cell_type": "code",
      "execution_count": 60,
      "metadata": {
        "colab": {
          "base_uri": "https://localhost:8080/"
        },
        "id": "BFfl3qNw-bUo",
        "outputId": "8e2f298e-c2c5-4e6e-84c1-57f36bb4f98a"
      },
      "outputs": [
        {
          "name": "stdout",
          "output_type": "stream",
          "text": [
            "2019 Tesla Model S\n",
            "This car has a 75-kWh battery.\n",
            "This car can go about 260 miles on a full charge.\n"
          ]
        }
      ],
      "source": [
        "# electric_car.py\n",
        "\n",
        "\n",
        "class Battery:\n",
        "    \"\"\"A simple attempt to model a battery for an electric car.\"\"\"\n",
        "\n",
        "    def __init__(self, battery_size=75):\n",
        "        \"\"\"Initialize the battery's attributes.\"\"\"\n",
        "        self.battery_size = battery_size\n",
        "\n",
        "    def describe_battery(self):\n",
        "        \"\"\"Print a statement describing the battery size.\"\"\"\n",
        "        print(f\"This car has a {self.battery_size}-kWh battery.\")\n",
        "\n",
        "    def get_range(self):\n",
        "        \"\"\"Print a statement about the range this battery provides.\"\"\"\n",
        "        if self.battery_size == 75:\n",
        "            range = 260\n",
        "        elif self.battery_size == 100:\n",
        "            range = 315\n",
        "        print(f\"This car can go about {range} miles on a full charge.\")\n",
        "\n",
        "\n",
        "class ElectricCar(Car):\n",
        "    \"\"\"Represent aspects of a car, specific to electric vehicles.\"\"\"\n",
        "\n",
        "    def __init__(self, make, model, year):\n",
        "        \"\"\"\n",
        "        Initialize attributes of the parent class.\n",
        "        Then initialize attributes specific to an electric car.\n",
        "        \"\"\"\n",
        "        super().__init__(make, model, year)\n",
        "        self.battery = Battery()\n",
        "\n",
        "\n",
        "my_tesla = ElectricCar(\"tesla\", \"model s\", 2019)\n",
        "\n",
        "print(my_tesla.get_descriptive_name())\n",
        "my_tesla.battery.describe_battery()\n",
        "my_tesla.battery.get_range()"
      ]
    },
    {
      "attachments": {},
      "cell_type": "markdown",
      "metadata": {
        "id": "YZlL0ylbAARJ"
      },
      "source": [
        "\n",
        "\n",
        "---\n",
        "\n",
        "\n",
        "## 3.5 TRY IT YOURSELF"
      ]
    },
    {
      "attachments": {},
      "cell_type": "markdown",
      "metadata": {
        "id": "zz1DJN0TADLS"
      },
      "source": [
        "### 3.5.1 Battery Upgrade:\n",
        "\n",
        "* Use the final version of **electric_car.py** from this section.\n",
        "\n",
        "* Add a method to the Battery class called **upgrade_battery()**. This method should check the battery size and set the capacity to 100 if it isn’t already."
      ]
    },
    {
      "cell_type": "code",
      "execution_count": 62,
      "metadata": {
        "id": "sAEizmLR_b_U"
      },
      "outputs": [
        {
          "name": "stdout",
          "output_type": "stream",
          "text": [
            "2019 Tesla Model S\n",
            "This car has a 75-kWh battery.\n",
            "This car can go about 260 miles on a full charge.\n",
            "\n",
            "battery size (before upgrade): 75\n",
            "battery size (after upgrade): 100\n"
          ]
        }
      ],
      "source": [
        "# Write your code here.\n",
        "class Battery:\n",
        "    \"\"\"A simple attempt to model a battery for an electric car.\"\"\"\n",
        "\n",
        "    def __init__(self, battery_size=75):\n",
        "        \"\"\"Initialize the battery's attributes.\"\"\"\n",
        "        self.battery_size = battery_size\n",
        "\n",
        "    def describe_battery(self):\n",
        "        \"\"\"Print a statement describing the battery size.\"\"\"\n",
        "        print(f\"This car has a {self.battery_size}-kWh battery.\")\n",
        "\n",
        "    def get_range(self):\n",
        "        \"\"\"Print a statement about the range this battery provides.\"\"\"\n",
        "        if self.battery_size == 75:\n",
        "            range = 260\n",
        "        elif self.battery_size == 100:\n",
        "            range = 315\n",
        "        print(f\"This car can go about {range} miles on a full charge.\")\n",
        "    \n",
        "    def upgrade_battery(self):\n",
        "        print(f\"battery size (before upgrade): {self.battery_size}\")\n",
        "\n",
        "        if self.battery_size <= 100:\n",
        "            self.battery_size = 100\n",
        "        print(f\"battery size (after upgrade): {self.battery_size}\")\n",
        "\n",
        "\n",
        "class ElectricCar(Car):\n",
        "    \"\"\"Represent aspects of a car, specific to electric vehicles.\"\"\"\n",
        "\n",
        "    def __init__(self, make, model, year):\n",
        "        \"\"\"\n",
        "        Initialize attributes of the parent class.\n",
        "        Then initialize attributes specific to an electric car.\n",
        "        \"\"\"\n",
        "        super().__init__(make, model, year)\n",
        "        self.battery = Battery()\n",
        "\n",
        "\n",
        "my_tesla = ElectricCar(\"tesla\", \"model s\", 2019)\n",
        "\n",
        "print(my_tesla.get_descriptive_name())\n",
        "my_tesla.battery.describe_battery()\n",
        "my_tesla.battery.get_range()\n",
        "\n",
        "print()\n",
        "my_tesla.battery.upgrade_battery()"
      ]
    },
    {
      "attachments": {},
      "cell_type": "markdown",
      "metadata": {
        "id": "fRNhT29OCMeq"
      },
      "source": [
        "* Make an electric car with a default battery size, call **get_range()** once.\n",
        "\n",
        "* Then call **get_range()** a second time after **upgrading the battery**. You should see an increase in the car’s range."
      ]
    },
    {
      "cell_type": "code",
      "execution_count": 63,
      "metadata": {
        "id": "88n0O2a7CNyw"
      },
      "outputs": [
        {
          "name": "stdout",
          "output_type": "stream",
          "text": [
            "2019 Tesla Model S\n",
            "This car has a 75-kWh battery.\n",
            "This car can go about 260 miles on a full charge.\n",
            "\n",
            "battery size (before upgrade): 75\n",
            "battery size (after upgrade): 100\n",
            "\n",
            "This car can go about 315 miles on a full charge.\n"
          ]
        }
      ],
      "source": [
        "# Write your code here.\n",
        "my_tesla = ElectricCar(\"tesla\", \"model s\", 2019)\n",
        "\n",
        "print(my_tesla.get_descriptive_name())\n",
        "my_tesla.battery.describe_battery()\n",
        "my_tesla.battery.get_range()\n",
        "\n",
        "print()\n",
        "my_tesla.battery.upgrade_battery()\n",
        "\n",
        "print()\n",
        "my_tesla.battery.get_range()"
      ]
    }
  ],
  "metadata": {
    "colab": {
      "provenance": []
    },
    "kernelspec": {
      "display_name": "Python 3 (ipykernel)",
      "language": "python",
      "name": "python3"
    },
    "language_info": {
      "codemirror_mode": {
        "name": "ipython",
        "version": 3
      },
      "file_extension": ".py",
      "mimetype": "text/x-python",
      "name": "python",
      "nbconvert_exporter": "python",
      "pygments_lexer": "ipython3",
      "version": "3.10.11"
    }
  },
  "nbformat": 4,
  "nbformat_minor": 0
}
